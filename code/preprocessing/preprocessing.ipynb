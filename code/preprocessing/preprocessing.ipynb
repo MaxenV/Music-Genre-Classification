{
 "cells": [
  {
   "cell_type": "code",
   "execution_count": null,
   "metadata": {},
   "outputs": [],
   "source": [
    "import sys\n",
    "from dotenv import load_dotenv\n",
    "import os"
   ]
  },
  {
   "cell_type": "code",
   "execution_count": null,
   "metadata": {},
   "outputs": [],
   "source": [
    "sys.path.append(\"../helpers\")\n",
    "from audio_process import AudioProcess\n",
    "from ProjectData import ProjectData\n",
    "from audio_visualization import show_mfcc_from_json, show_melspectrogram_from_json"
   ]
  },
  {
   "cell_type": "markdown",
   "metadata": {},
   "source": [
    "# Load environment variable\n",
    "sampling rate"
   ]
  },
  {
   "cell_type": "code",
   "execution_count": null,
   "metadata": {},
   "outputs": [],
   "source": [
    "load_dotenv()\n",
    "SAMPLING_RATE = int(os.getenv(\"SAMPLING_RATE\"))"
   ]
  },
  {
   "cell_type": "markdown",
   "metadata": {},
   "source": [
    "# Create ProjectData object"
   ]
  },
  {
   "cell_type": "code",
   "execution_count": null,
   "metadata": {},
   "outputs": [],
   "source": [
    "projectData = ProjectData()"
   ]
  },
  {
   "cell_type": "markdown",
   "metadata": {},
   "source": [
    "# Get auido paths "
   ]
  },
  {
   "cell_type": "code",
   "execution_count": null,
   "metadata": {},
   "outputs": [],
   "source": [
    "audioPaths = projectData.get_audio_paths()"
   ]
  },
  {
   "cell_type": "markdown",
   "metadata": {},
   "source": [
    "# Loop thought audio files, create and save the data"
   ]
  },
  {
   "cell_type": "markdown",
   "metadata": {},
   "source": [
    "Create melSpectrograms and mfcc with augmented data"
   ]
  },
  {
   "cell_type": "code",
   "execution_count": null,
   "metadata": {},
   "outputs": [],
   "source": [
    "for key in audioPaths.keys():\n",
    "    for path in audioPaths[key]:\n",
    "        audio = AudioProcess(\n",
    "            audio_path=path, class_name=key, sampling_rate=SAMPLING_RATE\n",
    "        )\n",
    "        audio.add_original_data()\n",
    "        audio.add_noise_data()\n",
    "        audio.add_echo()\n",
    "        audio.add_frequency_filter_data()\n",
    "        audio.add_delay_data()\n",
    "        audio.add_reverb_data()\n",
    "        audio.save_data()"
   ]
  },
  {
   "cell_type": "markdown",
   "metadata": {},
   "source": [
    "# Show examples"
   ]
  },
  {
   "cell_type": "markdown",
   "metadata": {},
   "source": [
    "Get data paths and labels"
   ]
  },
  {
   "cell_type": "code",
   "execution_count": null,
   "metadata": {},
   "outputs": [],
   "source": [
    "example_data = projectData.get_data_paths(indexes=range(0, 1000, 100))\n",
    "map_labels = {i: key for i, key in enumerate(audioPaths.keys())}"
   ]
  },
  {
   "cell_type": "markdown",
   "metadata": {},
   "source": [
    "## Show MelSpectrograms"
   ]
  },
  {
   "cell_type": "code",
   "execution_count": null,
   "metadata": {},
   "outputs": [],
   "source": [
    "for item in example_data[\"melSpectrogram\"]:\n",
    "    key, path = list(item.items())[0]\n",
    "    show_melspectrogram_from_json(\n",
    "        json_file_path=path, sampling_rate=SAMPLING_RATE, title=map_labels[key]\n",
    "    )"
   ]
  },
  {
   "cell_type": "markdown",
   "metadata": {},
   "source": [
    "## Show mfccs"
   ]
  },
  {
   "cell_type": "code",
   "execution_count": null,
   "metadata": {},
   "outputs": [],
   "source": [
    "for item in example_data[\"mfcc\"]:\n",
    "    key, path = list(item.items())[0]\n",
    "    show_mfcc_from_json(\n",
    "        json_file_path=path, sampling_rate=SAMPLING_RATE, title=map_labels[key]\n",
    "    )"
   ]
  }
 ],
 "metadata": {
  "kernelspec": {
   "display_name": "MusicGenre",
   "language": "python",
   "name": "python3"
  },
  "language_info": {
   "codemirror_mode": {
    "name": "ipython",
    "version": 3
   },
   "file_extension": ".py",
   "mimetype": "text/x-python",
   "name": "python",
   "nbconvert_exporter": "python",
   "pygments_lexer": "ipython3",
   "version": "3.12.4"
  }
 },
 "nbformat": 4,
 "nbformat_minor": 2
}
