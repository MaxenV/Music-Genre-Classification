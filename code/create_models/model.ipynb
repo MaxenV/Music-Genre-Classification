{
 "cells": [
  {
   "cell_type": "code",
   "execution_count": null,
   "metadata": {},
   "outputs": [],
   "source": [
    "import sys\n",
    "import numpy as np\n",
    "from sklearn.model_selection import train_test_split\n",
    "from keras import mixed_precision\n",
    "from keras.callbacks import EarlyStopping\n",
    "from keras.models import Model\n",
    "from keras.layers import (\n",
    "    Input,\n",
    "    Conv2D,\n",
    "    MaxPooling2D,\n",
    "    Flatten,\n",
    "    Dense,\n",
    "    Dropout,\n",
    "    concatenate,\n",
    "    BatchNormalization,\n",
    ")"
   ]
  },
  {
   "cell_type": "code",
   "execution_count": null,
   "metadata": {},
   "outputs": [],
   "source": [
    "# Enable mixed precision\n",
    "mixed_precision.set_global_policy(\"mixed_float16\")"
   ]
  },
  {
   "cell_type": "code",
   "execution_count": null,
   "metadata": {},
   "outputs": [],
   "source": [
    "sys.path.append(\"../helpers\")\n",
    "from ProjectData import ProjectData\n",
    "from model_pipeline import DataGenerator, plot_history\n",
    "\n",
    "prd = ProjectData()"
   ]
  },
  {
   "cell_type": "code",
   "execution_count": null,
   "metadata": {},
   "outputs": [],
   "source": [
    "data = prd.get_data_paths()[\"melSpectrogram_mfcc\"]\n",
    "map_labels = {i: key for i, key in enumerate(prd.get_audio_paths())}\n",
    "num_classes = len(map_labels)"
   ]
  },
  {
   "cell_type": "code",
   "execution_count": null,
   "metadata": {},
   "outputs": [],
   "source": [
    "X = []\n",
    "y = []\n",
    "for item in data:\n",
    "    key, path = list(item.items())[0]\n",
    "    X.append(path)\n",
    "    y.append(key)"
   ]
  },
  {
   "cell_type": "code",
   "execution_count": null,
   "metadata": {},
   "outputs": [],
   "source": [
    "X_train, X_test, y_train, y_test = train_test_split(\n",
    "    X, y, test_size=0.2, random_state=42, shuffle=True\n",
    ")\n",
    "X_train, X_val, y_train, y_val = train_test_split(\n",
    "    X_train, y_train, test_size=0.2, random_state=42, shuffle=True\n",
    ")"
   ]
  },
  {
   "cell_type": "code",
   "execution_count": null,
   "metadata": {},
   "outputs": [],
   "source": [
    "batch_size = 16\n",
    "input_shape_mel = (128, 1293, 1)\n",
    "input_shape_mfccs = (13, 1293, 1)"
   ]
  },
  {
   "cell_type": "code",
   "execution_count": null,
   "metadata": {},
   "outputs": [],
   "source": [
    "train_generator = DataGenerator(\n",
    "    X_train,\n",
    "    y_train,\n",
    "    input_shape_mel,\n",
    "    input_shape_mfccs,\n",
    "    num_classes=num_classes,\n",
    "    batch_size=batch_size,\n",
    ")\n",
    "val_generator = DataGenerator(\n",
    "    X_val,\n",
    "    y_val,\n",
    "    input_shape_mel,\n",
    "    input_shape_mfccs,\n",
    "    num_classes=num_classes,\n",
    "    batch_size=batch_size,\n",
    ")\n",
    "test_generator = DataGenerator(\n",
    "    X_test,\n",
    "    y_test,\n",
    "    input_shape_mel,\n",
    "    input_shape_mfccs,\n",
    "    num_classes=num_classes,\n",
    "    batch_size=batch_size,\n",
    ")"
   ]
  },
  {
   "cell_type": "code",
   "execution_count": null,
   "metadata": {},
   "outputs": [],
   "source": [
    "def create_model(input_shape_mel, input_shape_mfccs, num_classes):\n",
    "    # Mel spectrogram branch\n",
    "    input_mel = Input(shape=input_shape_mel, name=\"input_mel\")\n",
    "    x_mel = Conv2D(32, (3, 3), activation=\"relu\", padding=\"same\")(input_mel)\n",
    "    x_mel = BatchNormalization()(x_mel)\n",
    "    x_mel = MaxPooling2D((2, 2))(x_mel)\n",
    "    x_mel = Conv2D(64, (3, 3), activation=\"relu\", padding=\"same\")(x_mel)\n",
    "    x_mel = BatchNormalization()(x_mel)\n",
    "    x_mel = MaxPooling2D((2, 2))(x_mel)\n",
    "    x_mel = Conv2D(128, (3, 3), activation=\"relu\", padding=\"same\")(x_mel)\n",
    "    x_mel = BatchNormalization()(x_mel)\n",
    "    x_mel = MaxPooling2D((2, 2))(x_mel)\n",
    "    x_mel = Flatten()(x_mel)\n",
    "\n",
    "    # MFCC branch\n",
    "    input_mfccs = Input(shape=input_shape_mfccs, name=\"input_mfccs\")\n",
    "    x_mfccs = Conv2D(32, (3, 3), activation=\"relu\", padding=\"same\")(input_mfccs)\n",
    "    x_mfccs = BatchNormalization()(x_mfccs)\n",
    "    x_mfccs = MaxPooling2D((2, 2))(x_mfccs)\n",
    "    x_mfccs = Conv2D(64, (3, 3), activation=\"relu\", padding=\"same\")(x_mfccs)\n",
    "    x_mfccs = BatchNormalization()(x_mfccs)\n",
    "    x_mfccs = MaxPooling2D((2, 2))(x_mfccs)\n",
    "    x_mfccs = Conv2D(128, (3, 3), activation=\"relu\", padding=\"same\")(x_mfccs)\n",
    "    x_mfccs = BatchNormalization()(x_mfccs)\n",
    "    x_mfccs = MaxPooling2D((2, 2))(x_mfccs)\n",
    "    x_mfccs = Flatten()(x_mfccs)\n",
    "\n",
    "    # Concatenate the outputs of both branches\n",
    "    concatenated = concatenate([x_mel, x_mfccs])\n",
    "\n",
    "    # Fully connected layers\n",
    "    x = Dense(256, activation=\"relu\")(concatenated)\n",
    "    x = BatchNormalization()(x)\n",
    "    x = Dropout(0.7)(x)\n",
    "    x = Dense(128, activation=\"relu\")(x)\n",
    "    x = BatchNormalization()(x)\n",
    "    x = Dropout(0.55)(x)\n",
    "    output = Dense(num_classes, activation=\"softmax\")(x)\n",
    "\n",
    "    model = Model(inputs=[input_mel, input_mfccs], outputs=output)\n",
    "    return model"
   ]
  },
  {
   "cell_type": "code",
   "execution_count": null,
   "metadata": {},
   "outputs": [],
   "source": [
    "model = create_model(input_shape_mel, input_shape_mfccs, num_classes)\n",
    "model.compile(optimizer=\"adam\", loss=\"categorical_crossentropy\", metrics=[\"accuracy\"])"
   ]
  },
  {
   "cell_type": "code",
   "execution_count": null,
   "metadata": {},
   "outputs": [],
   "source": [
    "model.summary()"
   ]
  },
  {
   "cell_type": "code",
   "execution_count": null,
   "metadata": {},
   "outputs": [],
   "source": [
    "early_stopping = EarlyStopping(\n",
    "    monitor=\"val_loss\", patience=10, restore_best_weights=True\n",
    ")"
   ]
  },
  {
   "cell_type": "code",
   "execution_count": null,
   "metadata": {},
   "outputs": [],
   "source": [
    "history = model.fit(\n",
    "    train_generator,\n",
    "    validation_data=val_generator,\n",
    "    epochs=50,  # Adjust the number of epochs as needed\n",
    "    callbacks=[early_stopping],\n",
    ")"
   ]
  },
  {
   "cell_type": "code",
   "execution_count": null,
   "metadata": {},
   "outputs": [],
   "source": [
    "test_loss, test_accuracy = model.evaluate(test_generator)\n",
    "print(f\"Test Loss: {test_loss}\")\n",
    "print(f\"Test Accuracy: {test_accuracy}\")"
   ]
  },
  {
   "cell_type": "code",
   "execution_count": null,
   "metadata": {},
   "outputs": [],
   "source": [
    "plot_history(history, step=2)"
   ]
  }
 ],
 "metadata": {
  "kernelspec": {
   "display_name": "MusicGenre",
   "language": "python",
   "name": "python3"
  },
  "language_info": {
   "codemirror_mode": {
    "name": "ipython",
    "version": 3
   },
   "file_extension": ".py",
   "mimetype": "text/x-python",
   "name": "python",
   "nbconvert_exporter": "python",
   "pygments_lexer": "ipython3",
   "version": "3.12.4"
  }
 },
 "nbformat": 4,
 "nbformat_minor": 2
}
